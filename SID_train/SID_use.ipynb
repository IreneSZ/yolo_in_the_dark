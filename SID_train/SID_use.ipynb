{
 "cells": [
  {
   "cell_type": "code",
   "execution_count": 45,
   "metadata": {},
   "outputs": [],
   "source": [
    "import torch\n",
    "from SID_model import Unet\n",
    "import os\n",
    "import cv2\n",
    "import numpy as np\n",
    "from SID_data import get_img"
   ]
  },
  {
   "cell_type": "code",
   "execution_count": 46,
   "metadata": {},
   "outputs": [
    {
     "data": {
      "text/plain": [
       "IncompatibleKeys(missing_keys=[], unexpected_keys=[])"
      ]
     },
     "execution_count": 46,
     "metadata": {},
     "output_type": "execute_result"
    }
   ],
   "source": [
    "model = Unet()\n",
    "weights = torch.load('./output/best_model.pth')\n",
    "model.load_state_dict(weights)"
   ]
  },
  {
   "cell_type": "code",
   "execution_count": 64,
   "metadata": {},
   "outputs": [],
   "source": [
    "model.eval()\n",
    "lst_input = os.listdir('./inspect/input')\n",
    "lst_input.remove('.ipynb_checkpoints')"
   ]
  },
  {
   "cell_type": "code",
   "execution_count": 48,
   "metadata": {},
   "outputs": [],
   "source": [
    "def inspect(img_ID):\n",
    "    img_path = './inspect/input/'+ img_ID\n",
    "    img = get_img(img_path)\n",
    "    \n",
    "    output = (model(img.unsqueeze(dim=0))*255).detach().cpu()\n",
    "    output = output.squeeze(dim=0).permute((1,2,0)).numpy()\n",
    "\n",
    "    save_path = './inspect/output/' + 'recon_' + img_ID\n",
    "    cv2.imwrite(save_path, output)\n",
    "    "
   ]
  },
  {
   "cell_type": "code",
   "execution_count": 66,
   "metadata": {},
   "outputs": [],
   "source": [
    "for ID in lst_input:\n",
    "    inspect(ID)"
   ]
  },
  {
   "cell_type": "code",
   "execution_count": 67,
   "metadata": {},
   "outputs": [],
   "source": [
    "tmp = 'dark_dove.jpg'\n",
    "inspect(tmp)"
   ]
  },
  {
   "cell_type": "code",
   "execution_count": 65,
   "metadata": {},
   "outputs": [
    {
     "data": {
      "text/plain": [
       "['giraffe.jpg',\n",
       " 'livingroom.jpg',\n",
       " 'people.jpg',\n",
       " 'gulu.jpg',\n",
       " 'dark_mfin.jpg',\n",
       " 'desk.jpg',\n",
       " 'dark1_dove.jpg',\n",
       " 'dark_golden.jpg',\n",
       " 'dark_flower.jpg',\n",
       " 'dove.jpg',\n",
       " 'hotel.jpg',\n",
       " 'dark2_dove.jpg']"
      ]
     },
     "execution_count": 65,
     "metadata": {},
     "output_type": "execute_result"
    }
   ],
   "source": [
    "lst_input"
   ]
  },
  {
   "cell_type": "code",
   "execution_count": null,
   "metadata": {},
   "outputs": [],
   "source": []
  }
 ],
 "metadata": {
  "kernelspec": {
   "display_name": "Python 3",
   "language": "python",
   "name": "python3"
  },
  "language_info": {
   "codemirror_mode": {
    "name": "ipython",
    "version": 3
   },
   "file_extension": ".py",
   "mimetype": "text/x-python",
   "name": "python",
   "nbconvert_exporter": "python",
   "pygments_lexer": "ipython3",
   "version": "3.7.3"
  }
 },
 "nbformat": 4,
 "nbformat_minor": 2
}
