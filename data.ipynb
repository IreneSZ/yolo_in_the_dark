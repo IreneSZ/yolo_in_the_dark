{
 "cells": [
  {
   "cell_type": "code",
   "execution_count": 1,
   "metadata": {},
   "outputs": [],
   "source": [
    "import glob\n",
    "import math\n",
    "import os\n",
    "import random\n",
    "import shutil\n",
    "from pathlib import Path\n",
    "\n",
    "import cv2\n",
    "import numpy as np\n",
    "import torch\n",
    "from torch.utils.data import Dataset\n",
    "from tqdm import tqdm"
   ]
  },
  {
   "cell_type": "code",
   "execution_count": null,
   "metadata": {},
   "outputs": [],
   "source": [
    "# for training and testing\n",
    "\n",
    "class TrainImgLabels(Dataset):\n",
    "    def __init__(self, img_file, batch_size=16, augment=False, class_weights=False):\n",
    "        with open(img_file, \"r\") as fin:\n",
    "            self.img_paths = list(fin.read().splitlines())\n",
    "        n = len(self.img_paths)\n",
    "        batch_idx = np.floor(np.arrange(n) / batch_size).astype(np.int)\n",
    "        num_batch = baatch_idx[-1] + 1\n",
    "        \n",
    "        self.n = n\n",
    "        self.batch = batch_idx\n",
    "        self.augment = augment\n",
    "        self.class_weights = class_weights\n",
    "        \n",
    "        self.label_files = [x.replace('image', 'bbox').               #################what is this for#######\n",
    "                        replace('.jpeg', '.txt').\n",
    "                        replace('.jpg', '.txt').\n",
    "                        replace('.bmp', '.txt').\n",
    "                        replace('.png', '.txt') for x in self.img_paths] \n",
    "        \n",
    "        # preload labels\n",
    "        self.imgs = [None] * n\n",
    "        self.labels = [np.zeros((0, 5))] * n\n",
    "        iter = tqdm(self.label_files, desc='Reading labels')\n",
    "        for i, file in enumerate(iter):\n",
    "            try:\n",
    "                with open(file, 'r') as f:\n",
    "                    l = np.array([x.split() for x in f.read().splitlines()], dtype=np.float32)\n",
    "                    if l.shape[0]:\n",
    "                        assert l.shape[1] == 5, '> 5 label columns: %s' % file\n",
    "                        assert (l >= 0).all(), 'negative labels: %s' % file\n",
    "                        assert (l[:, 1:] <= 1).all(), 'non-normalized or out of bounds coordinate labels: %s' % file\n",
    "                        self.labels[i] = l\n",
    "            except FileNotFoundError:\n",
    "                pass  # print('Warning: missing labels for %s' % self.img_files[i])  # missing label file\n",
    "        assert len(np.concatenate(self.labels, 0)) > 0, 'No labels found. Incorrect label paths provided.'\n",
    "        \n",
    "        \n",
    "        \n",
    "    def __len__(self):\n",
    "        return len(self.img_paths)\n",
    "    \n",
    "    def __getitem__(self, index):\n",
    "        if self.class_weights:\n",
    "            index = self.indices[index] ########################what is this for?##################\n",
    "        \n",
    "        # images\n",
    "        img_path = self.img_paths[index]\n",
    "        img = cv2.imread(img_path)\n",
    "        assert img is not None, \"Image not found\" + img_path\n",
    "        \n",
    "        # load labels\n",
    "        label = self.labels[index]\n",
    "        \n",
    "        "
   ]
  },
  {
   "cell_type": "code",
   "execution_count": null,
   "metadata": {},
   "outputs": [],
   "source": []
  },
  {
   "cell_type": "code",
   "execution_count": null,
   "metadata": {},
   "outputs": [],
   "source": []
  },
  {
   "cell_type": "code",
   "execution_count": null,
   "metadata": {},
   "outputs": [],
   "source": []
  },
  {
   "cell_type": "code",
   "execution_count": null,
   "metadata": {},
   "outputs": [],
   "source": [
    "# for inference"
   ]
  },
  {
   "cell_type": "code",
   "execution_count": null,
   "metadata": {},
   "outputs": [],
   "source": []
  },
  {
   "cell_type": "code",
   "execution_count": null,
   "metadata": {},
   "outputs": [],
   "source": [
    "# for web cam"
   ]
  }
 ],
 "metadata": {
  "kernelspec": {
   "display_name": "Python 3",
   "language": "python",
   "name": "python3"
  },
  "language_info": {
   "codemirror_mode": {
    "name": "ipython",
    "version": 3
   },
   "file_extension": ".py",
   "mimetype": "text/x-python",
   "name": "python",
   "nbconvert_exporter": "python",
   "pygments_lexer": "ipython3",
   "version": "3.7.3"
  }
 },
 "nbformat": 4,
 "nbformat_minor": 2
}
